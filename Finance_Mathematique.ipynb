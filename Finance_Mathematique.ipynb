{
 "cells": [
  {
   "cell_type": "markdown",
   "id": "a6044a10",
   "metadata": {},
   "source": [
    "# FINANCE MATHÉMATIQUES"
   ]
  },
  {
   "cell_type": "markdown",
   "id": "07eace71",
   "metadata": {},
   "source": [
    "# # INTRODUCTION"
   ]
  },
  {
   "cell_type": "markdown",
   "id": "6096efc1",
   "metadata": {},
   "source": [
    "Texte"
   ]
  },
  {
   "cell_type": "code",
   "execution_count": null,
   "id": "40454ed6",
   "metadata": {},
   "outputs": [],
   "source": [
    "2 + 2"
   ]
  }
 ],
 "metadata": {
  "kernelspec": {
   "display_name": "R",
   "language": "R",
   "name": "ir"
  }
 },
 "nbformat": 4,
 "nbformat_minor": 5
}
